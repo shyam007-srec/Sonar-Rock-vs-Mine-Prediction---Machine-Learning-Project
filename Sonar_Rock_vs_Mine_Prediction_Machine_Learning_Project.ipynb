{
 "cells": [
  {
   "cell_type": "markdown",
   "id": "1f9110d4",
   "metadata": {
    "id": "Z2d73TvRhn66",
    "papermill": {
     "duration": 0.00729,
     "end_time": "2025-07-19T15:26:16.382250",
     "exception": false,
     "start_time": "2025-07-19T15:26:16.374960",
     "status": "completed"
    },
    "tags": []
   },
   "source": [
    "# SONAR Rock vs Mine Prediction Project Using Machine Learning"
   ]
  },
  {
   "cell_type": "markdown",
   "id": "b76ae539",
   "metadata": {
    "id": "_m23Zytni-tI",
    "papermill": {
     "duration": 0.00595,
     "end_time": "2025-07-19T15:26:16.394723",
     "exception": false,
     "start_time": "2025-07-19T15:26:16.388773",
     "status": "completed"
    },
    "tags": []
   },
   "source": [
    "# Objective:\n",
    "The goal of this project is to build a machine learning model that can classify sonar signals to distinguish between rocks and metal cylinders (mines) based on frequency responses.\n",
    "\n",
    "# Dataset Overview\n",
    "**Source:** [Sonar Dataset\n",
    "](https://drive.google.com/file/d/1pQxtljlNVh0DHYg-Ye7dtpDTlFceHVfa/view)\n",
    "\n",
    "**Features:** 60 frequency band energy readings (numerical values).\n",
    "\n",
    "**Target Variable:** Binary classification (Rock or Mine)."
   ]
  },
  {
   "cell_type": "markdown",
   "id": "8931d4eb",
   "metadata": {
    "id": "scOyC0spjgFR",
    "papermill": {
     "duration": 0.006155,
     "end_time": "2025-07-19T15:26:16.407170",
     "exception": false,
     "start_time": "2025-07-19T15:26:16.401015",
     "status": "completed"
    },
    "tags": []
   },
   "source": [
    "# Importing Required Libraries"
   ]
  },
  {
   "cell_type": "code",
   "execution_count": 1,
   "id": "cd94a53d",
   "metadata": {
    "execution": {
     "iopub.execute_input": "2025-07-19T15:26:16.421925Z",
     "iopub.status.busy": "2025-07-19T15:26:16.421507Z",
     "iopub.status.idle": "2025-07-19T15:26:20.456564Z",
     "shell.execute_reply": "2025-07-19T15:26:20.455569Z"
    },
    "id": "0kfCLK8Kh2OQ",
    "papermill": {
     "duration": 4.045057,
     "end_time": "2025-07-19T15:26:20.458536",
     "exception": false,
     "start_time": "2025-07-19T15:26:16.413479",
     "status": "completed"
    },
    "tags": []
   },
   "outputs": [],
   "source": [
    "import numpy as np\n",
    "import pandas as pd\n",
    "import matplotlib.pyplot as plt\n",
    "import seaborn as sns\n",
    "from sklearn.model_selection import train_test_split\n",
    "from sklearn.linear_model import LogisticRegression\n",
    "from sklearn.metrics import accuracy_score, confusion_matrix, classification_report"
   ]
  },
  {
   "cell_type": "markdown",
   "id": "f538c988",
   "metadata": {
    "id": "PMwEByJPkdWP",
    "papermill": {
     "duration": 0.009053,
     "end_time": "2025-07-19T15:26:20.475665",
     "exception": false,
     "start_time": "2025-07-19T15:26:20.466612",
     "status": "completed"
    },
    "tags": []
   },
   "source": [
    "># Loading and Exploring the Dataset"
   ]
  },
  {
   "cell_type": "code",
   "execution_count": 2,
   "id": "f88ecbb0",
   "metadata": {
    "execution": {
     "iopub.execute_input": "2025-07-19T15:26:20.492082Z",
     "iopub.status.busy": "2025-07-19T15:26:20.491189Z",
     "iopub.status.idle": "2025-07-19T15:26:20.499828Z",
     "shell.execute_reply": "2025-07-19T15:26:20.498776Z"
    },
    "papermill": {
     "duration": 0.018319,
     "end_time": "2025-07-19T15:26:20.501375",
     "exception": false,
     "start_time": "2025-07-19T15:26:20.483056",
     "status": "completed"
    },
    "tags": []
   },
   "outputs": [
    {
     "name": "stdout",
     "output_type": "stream",
     "text": [
      "/kaggle/input/sonar-dataset/Copy of sonar data.csv\n"
     ]
    }
   ],
   "source": [
    "import os\n",
    "for dirname, _, filenames in os.walk('/kaggle/input/sonar-dataset'):\n",
    "    for filename in filenames:\n",
    "        print(os.path.join(dirname, filename))\n"
   ]
  },
  {
   "cell_type": "code",
   "execution_count": 3,
   "id": "b2b81f33",
   "metadata": {
    "execution": {
     "iopub.execute_input": "2025-07-19T15:26:20.521126Z",
     "iopub.status.busy": "2025-07-19T15:26:20.520785Z",
     "iopub.status.idle": "2025-07-19T15:26:20.575723Z",
     "shell.execute_reply": "2025-07-19T15:26:20.574739Z"
    },
    "id": "H6vzKm9ykRPk",
    "outputId": "e5ad07e8-255e-44db-daec-e4aec9320ae6",
    "papermill": {
     "duration": 0.066592,
     "end_time": "2025-07-19T15:26:20.577257",
     "exception": false,
     "start_time": "2025-07-19T15:26:20.510665",
     "status": "completed"
    },
    "tags": []
   },
   "outputs": [
    {
     "data": {
      "text/html": [
       "<div>\n",
       "<style scoped>\n",
       "    .dataframe tbody tr th:only-of-type {\n",
       "        vertical-align: middle;\n",
       "    }\n",
       "\n",
       "    .dataframe tbody tr th {\n",
       "        vertical-align: top;\n",
       "    }\n",
       "\n",
       "    .dataframe thead th {\n",
       "        text-align: right;\n",
       "    }\n",
       "</style>\n",
       "<table border=\"1\" class=\"dataframe\">\n",
       "  <thead>\n",
       "    <tr style=\"text-align: right;\">\n",
       "      <th></th>\n",
       "      <th>0</th>\n",
       "      <th>1</th>\n",
       "      <th>2</th>\n",
       "      <th>3</th>\n",
       "      <th>4</th>\n",
       "      <th>5</th>\n",
       "      <th>6</th>\n",
       "      <th>7</th>\n",
       "      <th>8</th>\n",
       "      <th>9</th>\n",
       "      <th>...</th>\n",
       "      <th>51</th>\n",
       "      <th>52</th>\n",
       "      <th>53</th>\n",
       "      <th>54</th>\n",
       "      <th>55</th>\n",
       "      <th>56</th>\n",
       "      <th>57</th>\n",
       "      <th>58</th>\n",
       "      <th>59</th>\n",
       "      <th>60</th>\n",
       "    </tr>\n",
       "  </thead>\n",
       "  <tbody>\n",
       "    <tr>\n",
       "      <th>0</th>\n",
       "      <td>0.0200</td>\n",
       "      <td>0.0371</td>\n",
       "      <td>0.0428</td>\n",
       "      <td>0.0207</td>\n",
       "      <td>0.0954</td>\n",
       "      <td>0.0986</td>\n",
       "      <td>0.1539</td>\n",
       "      <td>0.1601</td>\n",
       "      <td>0.3109</td>\n",
       "      <td>0.2111</td>\n",
       "      <td>...</td>\n",
       "      <td>0.0027</td>\n",
       "      <td>0.0065</td>\n",
       "      <td>0.0159</td>\n",
       "      <td>0.0072</td>\n",
       "      <td>0.0167</td>\n",
       "      <td>0.0180</td>\n",
       "      <td>0.0084</td>\n",
       "      <td>0.0090</td>\n",
       "      <td>0.0032</td>\n",
       "      <td>R</td>\n",
       "    </tr>\n",
       "    <tr>\n",
       "      <th>1</th>\n",
       "      <td>0.0453</td>\n",
       "      <td>0.0523</td>\n",
       "      <td>0.0843</td>\n",
       "      <td>0.0689</td>\n",
       "      <td>0.1183</td>\n",
       "      <td>0.2583</td>\n",
       "      <td>0.2156</td>\n",
       "      <td>0.3481</td>\n",
       "      <td>0.3337</td>\n",
       "      <td>0.2872</td>\n",
       "      <td>...</td>\n",
       "      <td>0.0084</td>\n",
       "      <td>0.0089</td>\n",
       "      <td>0.0048</td>\n",
       "      <td>0.0094</td>\n",
       "      <td>0.0191</td>\n",
       "      <td>0.0140</td>\n",
       "      <td>0.0049</td>\n",
       "      <td>0.0052</td>\n",
       "      <td>0.0044</td>\n",
       "      <td>R</td>\n",
       "    </tr>\n",
       "    <tr>\n",
       "      <th>2</th>\n",
       "      <td>0.0262</td>\n",
       "      <td>0.0582</td>\n",
       "      <td>0.1099</td>\n",
       "      <td>0.1083</td>\n",
       "      <td>0.0974</td>\n",
       "      <td>0.2280</td>\n",
       "      <td>0.2431</td>\n",
       "      <td>0.3771</td>\n",
       "      <td>0.5598</td>\n",
       "      <td>0.6194</td>\n",
       "      <td>...</td>\n",
       "      <td>0.0232</td>\n",
       "      <td>0.0166</td>\n",
       "      <td>0.0095</td>\n",
       "      <td>0.0180</td>\n",
       "      <td>0.0244</td>\n",
       "      <td>0.0316</td>\n",
       "      <td>0.0164</td>\n",
       "      <td>0.0095</td>\n",
       "      <td>0.0078</td>\n",
       "      <td>R</td>\n",
       "    </tr>\n",
       "    <tr>\n",
       "      <th>3</th>\n",
       "      <td>0.0100</td>\n",
       "      <td>0.0171</td>\n",
       "      <td>0.0623</td>\n",
       "      <td>0.0205</td>\n",
       "      <td>0.0205</td>\n",
       "      <td>0.0368</td>\n",
       "      <td>0.1098</td>\n",
       "      <td>0.1276</td>\n",
       "      <td>0.0598</td>\n",
       "      <td>0.1264</td>\n",
       "      <td>...</td>\n",
       "      <td>0.0121</td>\n",
       "      <td>0.0036</td>\n",
       "      <td>0.0150</td>\n",
       "      <td>0.0085</td>\n",
       "      <td>0.0073</td>\n",
       "      <td>0.0050</td>\n",
       "      <td>0.0044</td>\n",
       "      <td>0.0040</td>\n",
       "      <td>0.0117</td>\n",
       "      <td>R</td>\n",
       "    </tr>\n",
       "    <tr>\n",
       "      <th>4</th>\n",
       "      <td>0.0762</td>\n",
       "      <td>0.0666</td>\n",
       "      <td>0.0481</td>\n",
       "      <td>0.0394</td>\n",
       "      <td>0.0590</td>\n",
       "      <td>0.0649</td>\n",
       "      <td>0.1209</td>\n",
       "      <td>0.2467</td>\n",
       "      <td>0.3564</td>\n",
       "      <td>0.4459</td>\n",
       "      <td>...</td>\n",
       "      <td>0.0031</td>\n",
       "      <td>0.0054</td>\n",
       "      <td>0.0105</td>\n",
       "      <td>0.0110</td>\n",
       "      <td>0.0015</td>\n",
       "      <td>0.0072</td>\n",
       "      <td>0.0048</td>\n",
       "      <td>0.0107</td>\n",
       "      <td>0.0094</td>\n",
       "      <td>R</td>\n",
       "    </tr>\n",
       "  </tbody>\n",
       "</table>\n",
       "<p>5 rows × 61 columns</p>\n",
       "</div>"
      ],
      "text/plain": [
       "       0       1       2       3       4       5       6       7       8   \\\n",
       "0  0.0200  0.0371  0.0428  0.0207  0.0954  0.0986  0.1539  0.1601  0.3109   \n",
       "1  0.0453  0.0523  0.0843  0.0689  0.1183  0.2583  0.2156  0.3481  0.3337   \n",
       "2  0.0262  0.0582  0.1099  0.1083  0.0974  0.2280  0.2431  0.3771  0.5598   \n",
       "3  0.0100  0.0171  0.0623  0.0205  0.0205  0.0368  0.1098  0.1276  0.0598   \n",
       "4  0.0762  0.0666  0.0481  0.0394  0.0590  0.0649  0.1209  0.2467  0.3564   \n",
       "\n",
       "       9   ...      51      52      53      54      55      56      57  \\\n",
       "0  0.2111  ...  0.0027  0.0065  0.0159  0.0072  0.0167  0.0180  0.0084   \n",
       "1  0.2872  ...  0.0084  0.0089  0.0048  0.0094  0.0191  0.0140  0.0049   \n",
       "2  0.6194  ...  0.0232  0.0166  0.0095  0.0180  0.0244  0.0316  0.0164   \n",
       "3  0.1264  ...  0.0121  0.0036  0.0150  0.0085  0.0073  0.0050  0.0044   \n",
       "4  0.4459  ...  0.0031  0.0054  0.0105  0.0110  0.0015  0.0072  0.0048   \n",
       "\n",
       "       58      59  60  \n",
       "0  0.0090  0.0032   R  \n",
       "1  0.0052  0.0044   R  \n",
       "2  0.0095  0.0078   R  \n",
       "3  0.0040  0.0117   R  \n",
       "4  0.0107  0.0094   R  \n",
       "\n",
       "[5 rows x 61 columns]"
      ]
     },
     "execution_count": 3,
     "metadata": {},
     "output_type": "execute_result"
    }
   ],
   "source": [
    "# Load the dataset\n",
    "df=pd.read_csv(\"/kaggle/input/sonar-dataset/Copy of sonar data.csv\",header=None)\n",
    "\n",
    "# Display first 5 rows\n",
    "df.head()"
   ]
  },
  {
   "cell_type": "code",
   "execution_count": 4,
   "id": "54c2fd2e",
   "metadata": {
    "execution": {
     "iopub.execute_input": "2025-07-19T15:26:20.591928Z",
     "iopub.status.busy": "2025-07-19T15:26:20.591586Z",
     "iopub.status.idle": "2025-07-19T15:26:20.596571Z",
     "shell.execute_reply": "2025-07-19T15:26:20.595522Z"
    },
    "id": "YMUuWxxJkkQ7",
    "outputId": "89a83eaa-a41b-49b1-929c-35b5e1e590b4",
    "papermill": {
     "duration": 0.013847,
     "end_time": "2025-07-19T15:26:20.598076",
     "exception": false,
     "start_time": "2025-07-19T15:26:20.584229",
     "status": "completed"
    },
    "tags": []
   },
   "outputs": [
    {
     "name": "stdout",
     "output_type": "stream",
     "text": [
      "Sonar DataSet Shape: (208, 61) \n",
      "\n",
      "208 Rows \n",
      "61 Columns\n"
     ]
    }
   ],
   "source": [
    "# Check dataset shape\n",
    "print(f'Sonar DataSet Shape: {df.shape} \\n\\n{df.shape[0]} Rows \\n{df.shape[1]} Columns')"
   ]
  },
  {
   "cell_type": "code",
   "execution_count": 5,
   "id": "2f14b284",
   "metadata": {
    "execution": {
     "iopub.execute_input": "2025-07-19T15:26:20.612996Z",
     "iopub.status.busy": "2025-07-19T15:26:20.612332Z",
     "iopub.status.idle": "2025-07-19T15:26:20.622455Z",
     "shell.execute_reply": "2025-07-19T15:26:20.621612Z"
    },
    "id": "X6ULXjs3kztl",
    "outputId": "be06f21d-d741-478f-a64b-59452d014e76",
    "papermill": {
     "duration": 0.018939,
     "end_time": "2025-07-19T15:26:20.623852",
     "exception": false,
     "start_time": "2025-07-19T15:26:20.604913",
     "status": "completed"
    },
    "tags": []
   },
   "outputs": [
    {
     "data": {
      "text/plain": [
       "60\n",
       "M    111\n",
       "R     97\n",
       "Name: count, dtype: int64"
      ]
     },
     "execution_count": 5,
     "metadata": {},
     "output_type": "execute_result"
    }
   ],
   "source": [
    "# Check class distribution\n",
    "df[60].value_counts()"
   ]
  },
  {
   "cell_type": "markdown",
   "id": "54df83a3",
   "metadata": {
    "id": "U8rVU0yHmCu5",
    "papermill": {
     "duration": 0.006494,
     "end_time": "2025-07-19T15:26:20.637101",
     "exception": false,
     "start_time": "2025-07-19T15:26:20.630607",
     "status": "completed"
    },
    "tags": []
   },
   "source": [
    "># Observations\n",
    "\n",
    "**The dataset has 208 samples and 60 features.**\n",
    "\n",
    "*   The dataset has 208 samples and 60 features.\n",
    "\n",
    "*   The last column (60) contains labels:\n",
    "\n",
    "        *    R → Rock\n",
    "        *    M → Mine\n",
    "\n",
    "\n",
    "\n",
    "\n",
    "\n"
   ]
  },
  {
   "cell_type": "markdown",
   "id": "f69ff893",
   "metadata": {
    "id": "68fBMu3Wndg1",
    "papermill": {
     "duration": 0.006296,
     "end_time": "2025-07-19T15:26:20.650066",
     "exception": false,
     "start_time": "2025-07-19T15:26:20.643770",
     "status": "completed"
    },
    "tags": []
   },
   "source": [
    "># Data Preprocessing"
   ]
  },
  {
   "cell_type": "code",
   "execution_count": 6,
   "id": "abde7400",
   "metadata": {
    "execution": {
     "iopub.execute_input": "2025-07-19T15:26:20.665130Z",
     "iopub.status.busy": "2025-07-19T15:26:20.664318Z",
     "iopub.status.idle": "2025-07-19T15:26:20.671637Z",
     "shell.execute_reply": "2025-07-19T15:26:20.670738Z"
    },
    "id": "FL6ayWHSlkRF",
    "outputId": "f6110d14-7ed1-44f3-fe84-abd4c2591657",
    "papermill": {
     "duration": 0.016312,
     "end_time": "2025-07-19T15:26:20.673044",
     "exception": false,
     "start_time": "2025-07-19T15:26:20.656732",
     "status": "completed"
    },
    "tags": []
   },
   "outputs": [
    {
     "data": {
      "text/plain": [
       "0     0\n",
       "1     0\n",
       "2     0\n",
       "3     0\n",
       "4     0\n",
       "     ..\n",
       "56    0\n",
       "57    0\n",
       "58    0\n",
       "59    0\n",
       "60    0\n",
       "Length: 61, dtype: int64"
      ]
     },
     "execution_count": 6,
     "metadata": {},
     "output_type": "execute_result"
    }
   ],
   "source": [
    "#Check the missing values\n",
    "df.isna().sum()"
   ]
  },
  {
   "cell_type": "markdown",
   "id": "d346f754",
   "metadata": {
    "id": "NxrdjV5Cnxz7",
    "papermill": {
     "duration": 0.006442,
     "end_time": "2025-07-19T15:26:20.686421",
     "exception": false,
     "start_time": "2025-07-19T15:26:20.679979",
     "status": "completed"
    },
    "tags": []
   },
   "source": [
    "># Separating Features & Target"
   ]
  },
  {
   "cell_type": "code",
   "execution_count": 7,
   "id": "8effc782",
   "metadata": {
    "execution": {
     "iopub.execute_input": "2025-07-19T15:26:20.701257Z",
     "iopub.status.busy": "2025-07-19T15:26:20.700951Z",
     "iopub.status.idle": "2025-07-19T15:26:20.714726Z",
     "shell.execute_reply": "2025-07-19T15:26:20.713614Z"
    },
    "id": "GlQgPw5wnnVg",
    "outputId": "5666e411-2dac-49a6-dc3c-97b23fe8382d",
    "papermill": {
     "duration": 0.023132,
     "end_time": "2025-07-19T15:26:20.716391",
     "exception": false,
     "start_time": "2025-07-19T15:26:20.693259",
     "status": "completed"
    },
    "tags": []
   },
   "outputs": [
    {
     "data": {
      "text/plain": [
       "0      0\n",
       "1      0\n",
       "2      0\n",
       "3      0\n",
       "4      0\n",
       "      ..\n",
       "203    1\n",
       "204    1\n",
       "205    1\n",
       "206    1\n",
       "207    1\n",
       "Name: 60, Length: 208, dtype: int64"
      ]
     },
     "execution_count": 7,
     "metadata": {},
     "output_type": "execute_result"
    }
   ],
   "source": [
    "X=df.drop(60,axis=1)\n",
    "y=df[60]\n",
    "\n",
    "# Convert labels to binary (0: Rock, 1: Mine)\n",
    "y.map({'R':0,\"M\":1})"
   ]
  },
  {
   "cell_type": "markdown",
   "id": "c8a7478e",
   "metadata": {
    "id": "UL7rPBnsoMjM",
    "papermill": {
     "duration": 0.007493,
     "end_time": "2025-07-19T15:26:20.731403",
     "exception": false,
     "start_time": "2025-07-19T15:26:20.723910",
     "status": "completed"
    },
    "tags": []
   },
   "source": [
    "# Train-Test Split"
   ]
  },
  {
   "cell_type": "code",
   "execution_count": 8,
   "id": "c3b2c8e5",
   "metadata": {
    "execution": {
     "iopub.execute_input": "2025-07-19T15:26:20.749997Z",
     "iopub.status.busy": "2025-07-19T15:26:20.749062Z",
     "iopub.status.idle": "2025-07-19T15:26:20.759188Z",
     "shell.execute_reply": "2025-07-19T15:26:20.758205Z"
    },
    "id": "fhT1O-ZZoDoC",
    "papermill": {
     "duration": 0.02196,
     "end_time": "2025-07-19T15:26:20.761186",
     "exception": false,
     "start_time": "2025-07-19T15:26:20.739226",
     "status": "completed"
    },
    "tags": []
   },
   "outputs": [],
   "source": [
    "X_train,X_test,y_train,y_test=train_test_split(X ,y ,test_size=0.1,stratify=y, random_state=42)"
   ]
  },
  {
   "cell_type": "code",
   "execution_count": 9,
   "id": "820395ed",
   "metadata": {
    "execution": {
     "iopub.execute_input": "2025-07-19T15:26:20.777793Z",
     "iopub.status.busy": "2025-07-19T15:26:20.777452Z",
     "iopub.status.idle": "2025-07-19T15:26:20.782545Z",
     "shell.execute_reply": "2025-07-19T15:26:20.781522Z"
    },
    "id": "LNAc5IYVqP8w",
    "outputId": "04419d6d-89ab-4ead-972c-2ee9bcad6198",
    "papermill": {
     "duration": 0.01441,
     "end_time": "2025-07-19T15:26:20.783997",
     "exception": false,
     "start_time": "2025-07-19T15:26:20.769587",
     "status": "completed"
    },
    "tags": []
   },
   "outputs": [
    {
     "name": "stdout",
     "output_type": "stream",
     "text": [
      "Shape of X_train(187, 60) \n",
      "Shape of Y_train(187,)\n",
      "\n",
      "\n",
      "Shape of x_test(21, 60) \n",
      "Shape of y_test(21,)\n"
     ]
    }
   ],
   "source": [
    "print(f'Shape of X_train{X_train.shape} \\nShape of Y_train{y_train.shape}')\n",
    "print(f'\\n\\nShape of x_test{X_test.shape} \\nShape of y_test{y_test.shape}')"
   ]
  },
  {
   "cell_type": "markdown",
   "id": "3c81c4f2",
   "metadata": {
    "id": "U8kFOv4FoopN",
    "papermill": {
     "duration": 0.007034,
     "end_time": "2025-07-19T15:26:20.798314",
     "exception": false,
     "start_time": "2025-07-19T15:26:20.791280",
     "status": "completed"
    },
    "tags": []
   },
   "source": [
    "># Model Building & Evaluation"
   ]
  },
  {
   "cell_type": "markdown",
   "id": "7cf36aa8",
   "metadata": {
    "id": "tnSG8wd1oxrZ",
    "papermill": {
     "duration": 0.006685,
     "end_time": "2025-07-19T15:26:20.812040",
     "exception": false,
     "start_time": "2025-07-19T15:26:20.805355",
     "status": "completed"
    },
    "tags": []
   },
   "source": [
    "**Logistic Regression**"
   ]
  },
  {
   "cell_type": "code",
   "execution_count": 10,
   "id": "c1ca12c7",
   "metadata": {
    "execution": {
     "iopub.execute_input": "2025-07-19T15:26:20.827261Z",
     "iopub.status.busy": "2025-07-19T15:26:20.826607Z",
     "iopub.status.idle": "2025-07-19T15:26:21.035482Z",
     "shell.execute_reply": "2025-07-19T15:26:21.034503Z"
    },
    "id": "GmT9f1-soXhL",
    "outputId": "513b4c0b-3181-41b9-b934-0a5699e7f609",
    "papermill": {
     "duration": 0.218295,
     "end_time": "2025-07-19T15:26:21.037217",
     "exception": false,
     "start_time": "2025-07-19T15:26:20.818922",
     "status": "completed"
    },
    "tags": []
   },
   "outputs": [
    {
     "name": "stdout",
     "output_type": "stream",
     "text": [
      "Accuracy: 0.8571428571428571\n",
      "\n",
      "\n",
      "classification_report: \n",
      "\n",
      "              precision    recall  f1-score   support\n",
      "\n",
      "           M       0.83      0.91      0.87        11\n",
      "           R       0.89      0.80      0.84        10\n",
      "\n",
      "    accuracy                           0.86        21\n",
      "   macro avg       0.86      0.85      0.86        21\n",
      "weighted avg       0.86      0.86      0.86        21\n",
      "\n"
     ]
    }
   ],
   "source": [
    "model=LogisticRegression()\n",
    "\n",
    "model.fit(X_train,y_train)\n",
    "\n",
    "y_pred_lr = model.predict(X_test)\n",
    "\n",
    "accuracy_lr = accuracy_score(y_test, y_pred_lr)\n",
    "\n",
    "print(\"Accuracy:\", accuracy_lr)\n",
    "print(f'\\n\\nclassification_report: \\n\\n{classification_report(y_test, y_pred_lr)}')"
   ]
  },
  {
   "cell_type": "code",
   "execution_count": 11,
   "id": "57abd3e7",
   "metadata": {
    "execution": {
     "iopub.execute_input": "2025-07-19T15:26:21.062345Z",
     "iopub.status.busy": "2025-07-19T15:26:21.062022Z",
     "iopub.status.idle": "2025-07-19T15:26:21.088340Z",
     "shell.execute_reply": "2025-07-19T15:26:21.086729Z"
    },
    "id": "jQ9vGyrC-Q5_",
    "outputId": "ebd334f1-ac20-4946-e572-f288f7523046",
    "papermill": {
     "duration": 0.041524,
     "end_time": "2025-07-19T15:26:21.090646",
     "exception": false,
     "start_time": "2025-07-19T15:26:21.049122",
     "status": "completed"
    },
    "tags": []
   },
   "outputs": [
    {
     "name": "stdout",
     "output_type": "stream",
     "text": [
      "Test Dataset Accuracy\n",
      "\n",
      "\n",
      "Accuracy on test data: 0.8235294117647058\n",
      "\n",
      "Classification Report: \n",
      "\n",
      "              precision    recall  f1-score   support\n",
      "\n",
      "           M       0.82      0.86      0.84       100\n",
      "           R       0.83      0.78      0.80        87\n",
      "\n",
      "    accuracy                           0.82       187\n",
      "   macro avg       0.82      0.82      0.82       187\n",
      "weighted avg       0.82      0.82      0.82       187\n",
      "\n"
     ]
    }
   ],
   "source": [
    "#Accuracy on Train data\n",
    "X_train_pred_lr = model.predict(X_train)\n",
    "\n",
    "print(\"Test Dataset Accuracy\\n\\n\")\n",
    "print(\"Accuracy on test data:\", accuracy_score(y_train, X_train_pred_lr))\n",
    "print(f'\\nClassification Report: \\n\\n{classification_report(y_train,X_train_pred_lr)}')"
   ]
  },
  {
   "cell_type": "markdown",
   "id": "bd9a8609",
   "metadata": {
    "id": "MH95n8AErcXE",
    "papermill": {
     "duration": 0.011887,
     "end_time": "2025-07-19T15:26:21.116511",
     "exception": false,
     "start_time": "2025-07-19T15:26:21.104624",
     "status": "completed"
    },
    "tags": []
   },
   "source": [
    "# Decision Tree"
   ]
  },
  {
   "cell_type": "code",
   "execution_count": 12,
   "id": "ab04df85",
   "metadata": {
    "execution": {
     "iopub.execute_input": "2025-07-19T15:26:21.141139Z",
     "iopub.status.busy": "2025-07-19T15:26:21.140821Z",
     "iopub.status.idle": "2025-07-19T15:26:21.304089Z",
     "shell.execute_reply": "2025-07-19T15:26:21.303289Z"
    },
    "id": "EqVeAWxQrpxg",
    "papermill": {
     "duration": 0.177008,
     "end_time": "2025-07-19T15:26:21.305609",
     "exception": false,
     "start_time": "2025-07-19T15:26:21.128601",
     "status": "completed"
    },
    "tags": []
   },
   "outputs": [],
   "source": [
    "from sklearn.tree import DecisionTreeClassifier"
   ]
  },
  {
   "cell_type": "code",
   "execution_count": 13,
   "id": "f61dd1d5",
   "metadata": {
    "execution": {
     "iopub.execute_input": "2025-07-19T15:26:21.321264Z",
     "iopub.status.busy": "2025-07-19T15:26:21.320697Z",
     "iopub.status.idle": "2025-07-19T15:26:21.344245Z",
     "shell.execute_reply": "2025-07-19T15:26:21.343325Z"
    },
    "id": "EoR3M_ueo_or",
    "outputId": "9015a79e-a6b3-4eed-99fa-020444f3d7ed",
    "papermill": {
     "duration": 0.032859,
     "end_time": "2025-07-19T15:26:21.345769",
     "exception": false,
     "start_time": "2025-07-19T15:26:21.312910",
     "status": "completed"
    },
    "tags": []
   },
   "outputs": [
    {
     "name": "stdout",
     "output_type": "stream",
     "text": [
      "Test Dataset Accuracy\n",
      "\n",
      "\n",
      "Accuracy on test data: 0.7142857142857143\n",
      "\n",
      "Classification Report: \n",
      "\n",
      "              precision    recall  f1-score   support\n",
      "\n",
      "           M       0.67      0.91      0.77        11\n",
      "           R       0.83      0.50      0.62        10\n",
      "\n",
      "    accuracy                           0.71        21\n",
      "   macro avg       0.75      0.70      0.70        21\n",
      "weighted avg       0.75      0.71      0.70        21\n",
      "\n"
     ]
    }
   ],
   "source": [
    "model_dt = DecisionTreeClassifier()\n",
    "model_dt.fit(X_train, y_train)\n",
    "y_pred_dt = model_dt.predict(X_test)\n",
    "\n",
    "print(\"Test Dataset Accuracy\\n\\n\")\n",
    "print(\"Accuracy on test data:\", accuracy_score(y_test, y_pred_dt))\n",
    "print(f'\\nClassification Report: \\n\\n{classification_report(y_test,y_pred_dt)}')\n"
   ]
  },
  {
   "cell_type": "code",
   "execution_count": 14,
   "id": "5225a2ff",
   "metadata": {
    "execution": {
     "iopub.execute_input": "2025-07-19T15:26:21.363006Z",
     "iopub.status.busy": "2025-07-19T15:26:21.362685Z",
     "iopub.status.idle": "2025-07-19T15:26:21.381289Z",
     "shell.execute_reply": "2025-07-19T15:26:21.380162Z"
    },
    "id": "1pNAAqiU9AQE",
    "outputId": "355db5c7-81ad-450d-a85a-be5b355852f4",
    "papermill": {
     "duration": 0.028243,
     "end_time": "2025-07-19T15:26:21.382705",
     "exception": false,
     "start_time": "2025-07-19T15:26:21.354462",
     "status": "completed"
    },
    "tags": []
   },
   "outputs": [
    {
     "name": "stdout",
     "output_type": "stream",
     "text": [
      "Test Dataset Accuracy\n",
      "\n",
      "\n",
      "Accuracy on test data: 1.0\n",
      "\n",
      "Classification Report: \n",
      "\n",
      "              precision    recall  f1-score   support\n",
      "\n",
      "           M       1.00      1.00      1.00       100\n",
      "           R       1.00      1.00      1.00        87\n",
      "\n",
      "    accuracy                           1.00       187\n",
      "   macro avg       1.00      1.00      1.00       187\n",
      "weighted avg       1.00      1.00      1.00       187\n",
      "\n"
     ]
    }
   ],
   "source": [
    "#Accuracy on Train data\n",
    "X_train_pred = model_dt.predict(X_train)\n",
    "\n",
    "print(\"Test Dataset Accuracy\\n\\n\")\n",
    "print(\"Accuracy on test data:\", accuracy_score(y_train, X_train_pred))\n",
    "print(f'\\nClassification Report: \\n\\n{classification_report(y_train,X_train_pred)}')"
   ]
  },
  {
   "cell_type": "markdown",
   "id": "d9fe2251",
   "metadata": {
    "id": "xDY0PpAQr1Wc",
    "papermill": {
     "duration": 0.007822,
     "end_time": "2025-07-19T15:26:21.398085",
     "exception": false,
     "start_time": "2025-07-19T15:26:21.390263",
     "status": "completed"
    },
    "tags": []
   },
   "source": [
    "# Random Forest"
   ]
  },
  {
   "cell_type": "code",
   "execution_count": 15,
   "id": "fdacc5d9",
   "metadata": {
    "execution": {
     "iopub.execute_input": "2025-07-19T15:26:21.477559Z",
     "iopub.status.busy": "2025-07-19T15:26:21.476872Z",
     "iopub.status.idle": "2025-07-19T15:26:21.614327Z",
     "shell.execute_reply": "2025-07-19T15:26:21.613338Z"
    },
    "id": "O1gcQ_c9riDc",
    "papermill": {
     "duration": 0.147899,
     "end_time": "2025-07-19T15:26:21.616151",
     "exception": false,
     "start_time": "2025-07-19T15:26:21.468252",
     "status": "completed"
    },
    "tags": []
   },
   "outputs": [],
   "source": [
    "from sklearn.ensemble import RandomForestClassifier"
   ]
  },
  {
   "cell_type": "code",
   "execution_count": 16,
   "id": "c134b902",
   "metadata": {
    "execution": {
     "iopub.execute_input": "2025-07-19T15:26:21.632378Z",
     "iopub.status.busy": "2025-07-19T15:26:21.632067Z",
     "iopub.status.idle": "2025-07-19T15:26:21.830251Z",
     "shell.execute_reply": "2025-07-19T15:26:21.829432Z"
    },
    "id": "KKpIsKB1r6dK",
    "outputId": "2c60240e-4a63-4cae-e494-e622cfa026a3",
    "papermill": {
     "duration": 0.208165,
     "end_time": "2025-07-19T15:26:21.831932",
     "exception": false,
     "start_time": "2025-07-19T15:26:21.623767",
     "status": "completed"
    },
    "tags": []
   },
   "outputs": [
    {
     "name": "stdout",
     "output_type": "stream",
     "text": [
      "Accuracy: 0.8571428571428571\n",
      "\n",
      "\n",
      "Classification Report: \n",
      "\n",
      "              precision    recall  f1-score   support\n",
      "\n",
      "           M       0.79      1.00      0.88        11\n",
      "           R       1.00      0.70      0.82        10\n",
      "\n",
      "    accuracy                           0.86        21\n",
      "   macro avg       0.89      0.85      0.85        21\n",
      "weighted avg       0.89      0.86      0.85        21\n",
      "\n"
     ]
    }
   ],
   "source": [
    "model_rf = RandomForestClassifier()\n",
    "model_rf.fit(X_train,y_train)\n",
    "y_predict = model_rf.predict(X_test)\n",
    "\n",
    "print(f'Accuracy: {accuracy_score(y_test,y_predict)}')\n",
    "print(f'\\n\\nClassification Report: \\n\\n{classification_report(y_test,y_predict)}')\n"
   ]
  },
  {
   "cell_type": "code",
   "execution_count": 17,
   "id": "18fcf726",
   "metadata": {
    "execution": {
     "iopub.execute_input": "2025-07-19T15:26:21.848622Z",
     "iopub.status.busy": "2025-07-19T15:26:21.848034Z",
     "iopub.status.idle": "2025-07-19T15:26:21.874349Z",
     "shell.execute_reply": "2025-07-19T15:26:21.873338Z"
    },
    "id": "HoI5xoK7-rze",
    "outputId": "39936c1d-08ca-4c24-87bd-12f75adef7d2",
    "papermill": {
     "duration": 0.03659,
     "end_time": "2025-07-19T15:26:21.875992",
     "exception": false,
     "start_time": "2025-07-19T15:26:21.839402",
     "status": "completed"
    },
    "tags": []
   },
   "outputs": [
    {
     "name": "stdout",
     "output_type": "stream",
     "text": [
      "Test Dataset Accuracy\n",
      "\n",
      "\n",
      "Accuracy on test data: 1.0\n",
      "\n",
      "Classification Report: \n",
      "\n",
      "              precision    recall  f1-score   support\n",
      "\n",
      "           M       1.00      1.00      1.00       100\n",
      "           R       1.00      1.00      1.00        87\n",
      "\n",
      "    accuracy                           1.00       187\n",
      "   macro avg       1.00      1.00      1.00       187\n",
      "weighted avg       1.00      1.00      1.00       187\n",
      "\n"
     ]
    }
   ],
   "source": [
    "#Accuracy on Train data\n",
    "X_train_pred_rf = model_rf.predict(X_train)\n",
    "\n",
    "print(\"Test Dataset Accuracy\\n\\n\")\n",
    "print(\"Accuracy on test data:\", accuracy_score(y_train, X_train_pred_rf))\n",
    "print(f'\\nClassification Report: \\n\\n{classification_report(y_train,X_train_pred_rf)}')"
   ]
  },
  {
   "cell_type": "markdown",
   "id": "709b69c1",
   "metadata": {
    "id": "Ov8XZi1GtcFB",
    "papermill": {
     "duration": 0.007365,
     "end_time": "2025-07-19T15:26:21.891125",
     "exception": false,
     "start_time": "2025-07-19T15:26:21.883760",
     "status": "completed"
    },
    "tags": []
   },
   "source": [
    "# Support Vector Machine (SVM)"
   ]
  },
  {
   "cell_type": "code",
   "execution_count": 18,
   "id": "2beb30f3",
   "metadata": {
    "execution": {
     "iopub.execute_input": "2025-07-19T15:26:21.907140Z",
     "iopub.status.busy": "2025-07-19T15:26:21.906753Z",
     "iopub.status.idle": "2025-07-19T15:26:21.910737Z",
     "shell.execute_reply": "2025-07-19T15:26:21.910021Z"
    },
    "id": "ocy5yhh9sqH1",
    "papermill": {
     "duration": 0.013869,
     "end_time": "2025-07-19T15:26:21.912288",
     "exception": false,
     "start_time": "2025-07-19T15:26:21.898419",
     "status": "completed"
    },
    "tags": []
   },
   "outputs": [],
   "source": [
    "from sklearn.svm import SVC"
   ]
  },
  {
   "cell_type": "code",
   "execution_count": 19,
   "id": "bf785b5f",
   "metadata": {
    "execution": {
     "iopub.execute_input": "2025-07-19T15:26:21.928901Z",
     "iopub.status.busy": "2025-07-19T15:26:21.928085Z",
     "iopub.status.idle": "2025-07-19T15:26:21.948625Z",
     "shell.execute_reply": "2025-07-19T15:26:21.947395Z"
    },
    "id": "j7c7f0Y_tfn1",
    "outputId": "24eb86f8-03c5-4744-a4ba-4ab600e729ea",
    "papermill": {
     "duration": 0.030546,
     "end_time": "2025-07-19T15:26:21.950293",
     "exception": false,
     "start_time": "2025-07-19T15:26:21.919747",
     "status": "completed"
    },
    "tags": []
   },
   "outputs": [
    {
     "name": "stdout",
     "output_type": "stream",
     "text": [
      "Accuracy: 0.9047619047619048\n",
      "\n",
      "\n",
      "Classification Report: \n",
      "\n",
      "              precision    recall  f1-score   support\n",
      "\n",
      "           M       0.85      1.00      0.92        11\n",
      "           R       1.00      0.80      0.89        10\n",
      "\n",
      "    accuracy                           0.90        21\n",
      "   macro avg       0.92      0.90      0.90        21\n",
      "weighted avg       0.92      0.90      0.90        21\n",
      "\n"
     ]
    }
   ],
   "source": [
    "model_svc = SVC()\n",
    "model_svc.fit(X_train,y_train)\n",
    "y_predict_svc = model_svc.predict(X_test)\n",
    "\n",
    "print(f'Accuracy: {accuracy_score(y_test,y_predict_svc)}')\n",
    "print(f'\\n\\nClassification Report: \\n\\n{classification_report(y_test,y_predict_svc)}')"
   ]
  },
  {
   "cell_type": "code",
   "execution_count": 20,
   "id": "432451d7",
   "metadata": {
    "execution": {
     "iopub.execute_input": "2025-07-19T15:26:21.966558Z",
     "iopub.status.busy": "2025-07-19T15:26:21.966268Z",
     "iopub.status.idle": "2025-07-19T15:26:21.986504Z",
     "shell.execute_reply": "2025-07-19T15:26:21.985423Z"
    },
    "id": "Jo1EYWcq--hP",
    "outputId": "22185f94-259d-41a4-ed57-2ffeb3990032",
    "papermill": {
     "duration": 0.030056,
     "end_time": "2025-07-19T15:26:21.988018",
     "exception": false,
     "start_time": "2025-07-19T15:26:21.957962",
     "status": "completed"
    },
    "tags": []
   },
   "outputs": [
    {
     "name": "stdout",
     "output_type": "stream",
     "text": [
      "Test Dataset Accuracy\n",
      "\n",
      "\n",
      "Accuracy on test data: 1.0\n",
      "\n",
      "Classification Report: \n",
      "\n",
      "              precision    recall  f1-score   support\n",
      "\n",
      "           M       1.00      1.00      1.00       100\n",
      "           R       1.00      1.00      1.00        87\n",
      "\n",
      "    accuracy                           1.00       187\n",
      "   macro avg       1.00      1.00      1.00       187\n",
      "weighted avg       1.00      1.00      1.00       187\n",
      "\n"
     ]
    }
   ],
   "source": [
    "#Accuracy on Train data\n",
    "X_train_pred_svc = model_dt.predict(X_train)\n",
    "\n",
    "print(\"Test Dataset Accuracy\\n\\n\")\n",
    "print(\"Accuracy on test data:\", accuracy_score(y_train, X_train_pred_svc))\n",
    "print(f'\\nClassification Report: \\n\\n{classification_report(y_train,X_train_pred_svc)}')"
   ]
  },
  {
   "cell_type": "markdown",
   "id": "3292c04a",
   "metadata": {
    "id": "In-3n8ewujKh",
    "papermill": {
     "duration": 0.007254,
     "end_time": "2025-07-19T15:26:22.003108",
     "exception": false,
     "start_time": "2025-07-19T15:26:21.995854",
     "status": "completed"
    },
    "tags": []
   },
   "source": [
    "># Model Comparison Table\n",
    "\n",
    "<div class=\"table-container\">\n",
    "\n",
    "  <table border=\"1\" class=\"dataframe\">\n",
    "    <thead>\n",
    "      <tr style=\"text-align: center;\">\n",
    "        <th>Model</th>\n",
    "        <th>Accuracy</th>\n",
    "        <th>Precision</th>\n",
    "        <th>Recall</th>\n",
    "        <th>F1-Score</th>\n",
    "      </tr>\n",
    "    </thead>\n",
    "    <tbody>\n",
    "      <tr>\n",
    "        <td>Logistic Regression</td>\n",
    "        <td>0.85</td>\n",
    "        <td>0.86</td>\n",
    "        <td>0.85</td>\n",
    "        <td>0.86</td>\n",
    "      </tr>\n",
    "      <tr>\n",
    "        <td>Decision Tree</td>\n",
    "        <td>0.71</td>\n",
    "        <td>0.75</td>\n",
    "        <td>0.70</td>\n",
    "        <td>0.70</td>\n",
    "      </tr>\n",
    "      <tr>\n",
    "        <td>Random Forest</td>\n",
    "        <td>0.90</td>\n",
    "        <td>0.92</td>\n",
    "        <td>0.90</td>\n",
    "        <td>0.90</td>\n",
    "      </tr>\n",
    "      <tr>\n",
    "        <td>SVM</td>\n",
    "        <td>0.90</td>\n",
    "        <td>0.92</td>\n",
    "        <td>0.90</td>\n",
    "        <td>0.90</td>\n",
    "      </tr>\n",
    "    </tbody>\n",
    "  </table>\n",
    "  <p><strong>Best Model:</strong> <span style=\"color: green; font-weight: bold;\">Random Forest & SVC</span> (Highest Accuracy & F1-Score)</p>\n",
    "</div>"
   ]
  },
  {
   "cell_type": "markdown",
   "id": "a7f7466e",
   "metadata": {
    "id": "eYRmP4QI6Mxf",
    "papermill": {
     "duration": 0.007391,
     "end_time": "2025-07-19T15:26:22.018068",
     "exception": false,
     "start_time": "2025-07-19T15:26:22.010677",
     "status": "completed"
    },
    "tags": []
   },
   "source": [
    "># Confusion Matrix Visualization"
   ]
  },
  {
   "cell_type": "code",
   "execution_count": 21,
   "id": "31509517",
   "metadata": {
    "execution": {
     "iopub.execute_input": "2025-07-19T15:26:22.034409Z",
     "iopub.status.busy": "2025-07-19T15:26:22.034114Z",
     "iopub.status.idle": "2025-07-19T15:26:23.184027Z",
     "shell.execute_reply": "2025-07-19T15:26:23.183123Z"
    },
    "id": "5YDIcL_G6inu",
    "outputId": "b0b8ddcf-f193-4f09-a678-393fccb16b7a",
    "papermill": {
     "duration": 1.159912,
     "end_time": "2025-07-19T15:26:23.185503",
     "exception": false,
     "start_time": "2025-07-19T15:26:22.025591",
     "status": "completed"
    },
    "tags": []
   },
   "outputs": [
    {
     "data": {
      "image/png": "[encoded data removed]",
      "text/plain": [
       "<Figure size 1200x1000 with 8 Axes>"
      ]
     },
     "metadata": {},
     "output_type": "display_data"
    }
   ],
   "source": [
    "import matplotlib.pyplot as plt\n",
    "import seaborn as sns\n",
    "from sklearn.metrics import confusion_matrix\n",
    "\n",
    "# Create a 2x2 subplot grid\n",
    "fig, axes = plt.subplots(2, 2, figsize=(12, 10))\n",
    "\n",
    "# Assuming you have 4 sets of predictions: y_pred_dt, y_pred_rf, y_pred_svm, y_pred_lr\n",
    "# Replace these with your actual model predictions\n",
    "\n",
    "# 1. Decision Tree Confusion Matrix\n",
    "cm_dt = confusion_matrix(y_test, y_pred_dt)\n",
    "sns.heatmap(cm_dt, annot=True, fmt='d', ax=axes[0, 0], cmap='Blues')\n",
    "axes[0, 0].set_title('Decision Tree')\n",
    "axes[0, 0].set_xlabel('Predicted')\n",
    "axes[0, 0].set_ylabel('Actual')\n",
    "\n",
    "# 2. Random Forest Confusion Matrix\n",
    "cm_rf = confusion_matrix(y_test, y_predict)\n",
    "sns.heatmap(cm_rf, annot=True, fmt='d', ax=axes[0, 1], cmap='Greens')\n",
    "axes[0, 1].set_title('Random Forest')\n",
    "axes[0, 1].set_xlabel('Predicted')\n",
    "axes[0, 1].set_ylabel('Actual')\n",
    "\n",
    "# 3. SVM Confusion Matrix\n",
    "cm_svm = confusion_matrix(y_test, y_predict_svc)\n",
    "sns.heatmap(cm_svm, annot=True, fmt='d', ax=axes[1, 0], cmap='Reds')\n",
    "axes[1, 0].set_title('SVM')\n",
    "axes[1, 0].set_xlabel('Predicted')\n",
    "axes[1, 0].set_ylabel('Actual')\n",
    "\n",
    "# 4. Logistic Regression Confusion Matrix\n",
    "cm_lr = confusion_matrix(y_test, y_pred_lr)\n",
    "sns.heatmap(cm_lr, annot=True, fmt='d', ax=axes[1, 1], cmap='Purples')\n",
    "axes[1, 1].set_title('Logistic Regression')\n",
    "axes[1, 1].set_xlabel('Predicted')\n",
    "axes[1, 1].set_ylabel('Actual')\n",
    "\n",
    "# Adjust layout and display\n",
    "plt.tight_layout()\n",
    "plt.show()"
   ]
  },
  {
   "cell_type": "markdown",
   "id": "eee26771",
   "metadata": {
    "id": "iy0Chla1_R9z",
    "papermill": {
     "duration": 0.008347,
     "end_time": "2025-07-19T15:26:23.202662",
     "exception": false,
     "start_time": "2025-07-19T15:26:23.194315",
     "status": "completed"
    },
    "tags": []
   },
   "source": [
    "># Making a Predicting System"
   ]
  },
  {
   "cell_type": "code",
   "execution_count": 22,
   "id": "c1de2697",
   "metadata": {
    "execution": {
     "iopub.execute_input": "2025-07-19T15:26:23.221080Z",
     "iopub.status.busy": "2025-07-19T15:26:23.220716Z",
     "iopub.status.idle": "2025-07-19T15:26:23.225624Z",
     "shell.execute_reply": "2025-07-19T15:26:23.224676Z"
    },
    "id": "mX-4zs3b3Vnd",
    "outputId": "c1e45e2d-2045-4671-d5df-c34793121e09",
    "papermill": {
     "duration": 0.015995,
     "end_time": "2025-07-19T15:26:23.227089",
     "exception": false,
     "start_time": "2025-07-19T15:26:23.211094",
     "status": "completed"
    },
    "tags": []
   },
   "outputs": [],
   "source": [
    "def predict_input(data):\n",
    "    # changing the input_data type into array\n",
    "    input_data_array = np.array(data)\n",
    "    \n",
    "    # reshape the np array as we are predicting for one instance\n",
    "    input_data_reshape = input_data_array.reshape(1,-1)\n",
    "    predict_input_data = model_dt.predict(input_data_reshape)\n",
    "    return predict_input_data\n",
    "\n"
   ]
  },
  {
   "cell_type": "code",
   "execution_count": 23,
   "id": "5723f96e",
   "metadata": {
    "execution": {
     "iopub.execute_input": "2025-07-19T15:26:23.245793Z",
     "iopub.status.busy": "2025-07-19T15:26:23.245374Z",
     "iopub.status.idle": "2025-07-19T15:26:23.252620Z",
     "shell.execute_reply": "2025-07-19T15:26:23.251880Z"
    },
    "id": "HvL_he0kAYxg",
    "papermill": {
     "duration": 0.018421,
     "end_time": "2025-07-19T15:26:23.254176",
     "exception": false,
     "start_time": "2025-07-19T15:26:23.235755",
     "status": "completed"
    },
    "tags": []
   },
   "outputs": [],
   "source": [
    "Rock_prdict = (\n",
    "    0.1313, 0.2339, 0.3059, 0.4264, 0.4010, 0.1791, 0.1853, 0.0055, 0.1929, 0.2231,\n",
    "    0.2907, 0.2259, 0.3136, 0.3302, 0.3660, 0.3956, 0.4386, 0.4670, 0.5255, 0.3735,\n",
    "    0.2243, 0.1973, 0.4337, 0.6532, 0.5070, 0.2796, 0.4163, 0.5950, 0.5242, 0.4178,\n",
    "    0.3714, 0.2375, 0.0863, 0.1437, 0.2896, 0.4577, 0.3725, 0.3372, 0.3803, 0.4181,\n",
    "    0.3603, 0.2711, 0.1653, 0.1951, 0.2811, 0.2246, 0.1921, 0.1500, 0.0665, 0.0193,\n",
    "    0.0156, 0.0362, 0.0210, 0.0154, 0.0180, 0.0013, 0.0106, 0.0127, 0.0178, 0.0231\n",
    ")\n",
    "\n",
    "Main_predict = (\n",
    "    0.0453, 0.0523, 0.0843, 0.0689, 0.1183, 0.2583, 0.2156, 0.3481, 0.3337, 0.2872,\n",
    "    0.4918, 0.6552, 0.6919, 0.7797, 0.7464, 0.9444, 1.0000, 0.8874, 0.8024, 0.7818,\n",
    "    0.5212, 0.4052, 0.3957, 0.3914, 0.3250, 0.3200, 0.3271, 0.2767, 0.4423, 0.2028,\n",
    "    0.3788, 0.2947, 0.1984, 0.2341, 0.1306, 0.4182, 0.3835, 0.1057, 0.1840, 0.1970,\n",
    "    0.1674, 0.0583, 0.1401, 0.1628, 0.0621, 0.0203, 0.0530, 0.0742, 0.0409, 0.0061,\n",
    "    0.0125, 0.0084, 0.0089, 0.0048, 0.0094, 0.0191, 0.0140, 0.0049, 0.0052, 0.0044\n",
    ")\n"
   ]
  },
  {
   "cell_type": "code",
   "execution_count": 24,
   "id": "0a0b25d3",
   "metadata": {
    "execution": {
     "iopub.execute_input": "2025-07-19T15:26:23.272831Z",
     "iopub.status.busy": "2025-07-19T15:26:23.272481Z",
     "iopub.status.idle": "2025-07-19T15:26:23.277975Z",
     "shell.execute_reply": "2025-07-19T15:26:23.276961Z"
    },
    "id": "6rGtsWjBCPM0",
    "papermill": {
     "duration": 0.016372,
     "end_time": "2025-07-19T15:26:23.279408",
     "exception": false,
     "start_time": "2025-07-19T15:26:23.263036",
     "status": "completed"
    },
    "tags": []
   },
   "outputs": [
    {
     "name": "stdout",
     "output_type": "stream",
     "text": [
      "['M']\n"
     ]
    }
   ],
   "source": [
    "print(predict_input(Rock_prdict))"
   ]
  },
  {
   "cell_type": "code",
   "execution_count": 25,
   "id": "41d71ed7",
   "metadata": {
    "execution": {
     "iopub.execute_input": "2025-07-19T15:26:23.300685Z",
     "iopub.status.busy": "2025-07-19T15:26:23.300364Z",
     "iopub.status.idle": "2025-07-19T15:26:23.305823Z",
     "shell.execute_reply": "2025-07-19T15:26:23.304875Z"
    },
    "papermill": {
     "duration": 0.01852,
     "end_time": "2025-07-19T15:26:23.307211",
     "exception": false,
     "start_time": "2025-07-19T15:26:23.288691",
     "status": "completed"
    },
    "tags": []
   },
   "outputs": [
    {
     "name": "stdout",
     "output_type": "stream",
     "text": [
      "['R']\n"
     ]
    }
   ],
   "source": [
    "print(predict_input(Main_predict))"
   ]
  },
  {
   "cell_type": "markdown",
   "id": "20bed435",
   "metadata": {
    "papermill": {
     "duration": 0.008516,
     "end_time": "2025-07-19T15:26:23.324706",
     "exception": false,
     "start_time": "2025-07-19T15:26:23.316190",
     "status": "completed"
    },
    "tags": []
   },
   "source": [
    "# 🙌 Enjoyed the Notebook? Show Some ❤️\n",
    "If you found this notebook helpful, interesting, or educational, please consider leaving an **upvote ⭐**.\n",
    "It really helps me as a learner grow in the Kaggle community and motivates me to share more projects like this!\n",
    "\n",
    "Your support means a lot!\n",
    "Thank you 😊"
   ]
  }
 ],
 "metadata": {
  "colab": {
   "provenance": []
  },
  "kaggle": {
   "accelerator": "none",
   "dataSources": [
    {
     "datasetId": 7901298,
     "sourceId": 12517553,
     "sourceType": "datasetVersion"
    }
   ],
   "dockerImageVersionId": 31089,
   "isGpuEnabled": false,
   "isInternetEnabled": true,
   "language": "python",
   "sourceType": "notebook"
  },
  "kernelspec": {
   "display_name": "Python 3",
   "language": "python",
   "name": "python3"
  },
  "language_info": {
   "codemirror_mode": {
    "name": "ipython",
    "version": 3
   },
   "file_extension": ".py",
   "mimetype": "text/x-python",
   "name": "python",
   "nbconvert_exporter": "python",
   "pygments_lexer": "ipython3",
   "version": "3.11.13"
  },
  "papermill": {
   "default_parameters": {},
   "duration": 12.308977,
   "end_time": "2025-07-19T15:26:24.053070",
   "environment_variables": {},
   "exception": null,
   "input_path": "__notebook__.ipynb",
   "output_path": "__notebook__.ipynb",
   "parameters": {},
   "start_time": "2025-07-19T15:26:11.744093",
   "version": "2.6.0"
  }
 },
 "nbformat": 4,
 "nbformat_minor": 5
}
