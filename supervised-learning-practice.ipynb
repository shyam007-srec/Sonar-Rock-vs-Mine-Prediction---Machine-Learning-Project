{
 "cells": [
  {
   "cell_type": "markdown",
   "id": "99779db4",
   "metadata": {
    "papermill": {
     "duration": 0.00583,
     "end_time": "2025-08-24T13:56:11.765150",
     "exception": false,
     "start_time": "2025-08-24T13:56:11.759320",
     "status": "completed"
    },
    "tags": []
   },
   "source": [
    "# Step 1: Load & Explore a Dataset"
   ]
  },
  {
   "cell_type": "code",
   "execution_count": 1,
   "id": "c60adb2c",
   "metadata": {
    "execution": {
     "iopub.execute_input": "2025-08-24T13:56:11.776257Z",
     "iopub.status.busy": "2025-08-24T13:56:11.775933Z",
     "iopub.status.idle": "2025-08-24T13:56:16.190217Z",
     "shell.execute_reply": "2025-08-24T13:56:16.189144Z"
    },
    "papermill": {
     "duration": 4.422037,
     "end_time": "2025-08-24T13:56:16.192141",
     "exception": false,
     "start_time": "2025-08-24T13:56:11.770104",
     "status": "completed"
    },
    "tags": []
   },
   "outputs": [],
   "source": [
    "# Import libraries\n",
    "import pandas as pd\n",
    "import numpy as np\n",
    "import matplotlib.pyplot as plt\n",
    "import seaborn as sns\n",
    "from sklearn.datasets import load_iris"
   ]
  },
  {
   "cell_type": "code",
   "execution_count": 2,
   "id": "e5315f43",
   "metadata": {
    "execution": {
     "iopub.execute_input": "2025-08-24T13:56:16.203409Z",
     "iopub.status.busy": "2025-08-24T13:56:16.202940Z",
     "iopub.status.idle": "2025-08-24T13:56:16.239590Z",
     "shell.execute_reply": "2025-08-24T13:56:16.238641Z"
    },
    "papermill": {
     "duration": 0.044166,
     "end_time": "2025-08-24T13:56:16.241253",
     "exception": false,
     "start_time": "2025-08-24T13:56:16.197087",
     "status": "completed"
    },
    "tags": []
   },
   "outputs": [
    {
     "data": {
      "text/html": [
       "<div>\n",
       "<style scoped>\n",
       "    .dataframe tbody tr th:only-of-type {\n",
       "        vertical-align: middle;\n",
       "    }\n",
       "\n",
       "    .dataframe tbody tr th {\n",
       "        vertical-align: top;\n",
       "    }\n",
       "\n",
       "    .dataframe thead th {\n",
       "        text-align: right;\n",
       "    }\n",
       "</style>\n",
       "<table border=\"1\" class=\"dataframe\">\n",
       "  <thead>\n",
       "    <tr style=\"text-align: right;\">\n",
       "      <th></th>\n",
       "      <th>sepal length (cm)</th>\n",
       "      <th>sepal width (cm)</th>\n",
       "      <th>petal length (cm)</th>\n",
       "      <th>petal width (cm)</th>\n",
       "    </tr>\n",
       "  </thead>\n",
       "  <tbody>\n",
       "    <tr>\n",
       "      <th>0</th>\n",
       "      <td>5.1</td>\n",
       "      <td>3.5</td>\n",
       "      <td>1.4</td>\n",
       "      <td>0.2</td>\n",
       "    </tr>\n",
       "    <tr>\n",
       "      <th>1</th>\n",
       "      <td>4.9</td>\n",
       "      <td>3.0</td>\n",
       "      <td>1.4</td>\n",
       "      <td>0.2</td>\n",
       "    </tr>\n",
       "    <tr>\n",
       "      <th>2</th>\n",
       "      <td>4.7</td>\n",
       "      <td>3.2</td>\n",
       "      <td>1.3</td>\n",
       "      <td>0.2</td>\n",
       "    </tr>\n",
       "    <tr>\n",
       "      <th>3</th>\n",
       "      <td>4.6</td>\n",
       "      <td>3.1</td>\n",
       "      <td>1.5</td>\n",
       "      <td>0.2</td>\n",
       "    </tr>\n",
       "    <tr>\n",
       "      <th>4</th>\n",
       "      <td>5.0</td>\n",
       "      <td>3.6</td>\n",
       "      <td>1.4</td>\n",
       "      <td>0.2</td>\n",
       "    </tr>\n",
       "  </tbody>\n",
       "</table>\n",
       "</div>"
      ],
      "text/plain": [
       "   sepal length (cm)  sepal width (cm)  petal length (cm)  petal width (cm)\n",
       "0                5.1               3.5                1.4               0.2\n",
       "1                4.9               3.0                1.4               0.2\n",
       "2                4.7               3.2                1.3               0.2\n",
       "3                4.6               3.1                1.5               0.2\n",
       "4                5.0               3.6                1.4               0.2"
      ]
     },
     "execution_count": 2,
     "metadata": {},
     "output_type": "execute_result"
    }
   ],
   "source": [
    "# Load Dataset\n",
    "\n",
    "iris = load_iris()\n",
    "\n",
    "X = iris.data #features\n",
    "y = iris.target # labels\n",
    "\n",
    "df = pd.DataFrame(X, columns=iris.feature_names)\n",
    "\n",
    "df.head()\n"
   ]
  },
  {
   "cell_type": "code",
   "execution_count": 3,
   "id": "304359b9",
   "metadata": {
    "execution": {
     "iopub.execute_input": "2025-08-24T13:56:16.253193Z",
     "iopub.status.busy": "2025-08-24T13:56:16.252306Z",
     "iopub.status.idle": "2025-08-24T13:56:16.279020Z",
     "shell.execute_reply": "2025-08-24T13:56:16.277778Z"
    },
    "papermill": {
     "duration": 0.034572,
     "end_time": "2025-08-24T13:56:16.280926",
     "exception": false,
     "start_time": "2025-08-24T13:56:16.246354",
     "status": "completed"
    },
    "tags": []
   },
   "outputs": [
    {
     "name": "stdout",
     "output_type": "stream",
     "text": [
      "<class 'pandas.core.frame.DataFrame'>\n",
      "RangeIndex: 150 entries, 0 to 149\n",
      "Data columns (total 4 columns):\n",
      " #   Column             Non-Null Count  Dtype  \n",
      "---  ------             --------------  -----  \n",
      " 0   sepal length (cm)  150 non-null    float64\n",
      " 1   sepal width (cm)   150 non-null    float64\n",
      " 2   petal length (cm)  150 non-null    float64\n",
      " 3   petal width (cm)   150 non-null    float64\n",
      "dtypes: float64(4)\n",
      "memory usage: 4.8 KB\n"
     ]
    }
   ],
   "source": [
    "df.info()"
   ]
  },
  {
   "cell_type": "code",
   "execution_count": 4,
   "id": "e151295c",
   "metadata": {
    "execution": {
     "iopub.execute_input": "2025-08-24T13:56:16.295024Z",
     "iopub.status.busy": "2025-08-24T13:56:16.294631Z",
     "iopub.status.idle": "2025-08-24T13:56:16.306039Z",
     "shell.execute_reply": "2025-08-24T13:56:16.304960Z"
    },
    "papermill": {
     "duration": 0.019893,
     "end_time": "2025-08-24T13:56:16.307401",
     "exception": false,
     "start_time": "2025-08-24T13:56:16.287508",
     "status": "completed"
    },
    "tags": []
   },
   "outputs": [
    {
     "name": "stdout",
     "output_type": "stream",
     "text": [
      "<class 'pandas.core.frame.DataFrame'>\n",
      "RangeIndex: 150 entries, 0 to 149\n",
      "Data columns (total 1 columns):\n",
      " #   Column  Non-Null Count  Dtype\n",
      "---  ------  --------------  -----\n",
      " 0   0       150 non-null    int64\n",
      "dtypes: int64(1)\n",
      "memory usage: 1.3 KB\n"
     ]
    }
   ],
   "source": [
    "df1 = pd.DataFrame(y)\n",
    "\n",
    "df1.info()"
   ]
  },
  {
   "cell_type": "code",
   "execution_count": 5,
   "id": "c6dfb3b0",
   "metadata": {
    "execution": {
     "iopub.execute_input": "2025-08-24T13:56:16.319260Z",
     "iopub.status.busy": "2025-08-24T13:56:16.318964Z",
     "iopub.status.idle": "2025-08-24T13:56:16.326933Z",
     "shell.execute_reply": "2025-08-24T13:56:16.325747Z"
    },
    "papermill": {
     "duration": 0.015656,
     "end_time": "2025-08-24T13:56:16.328489",
     "exception": false,
     "start_time": "2025-08-24T13:56:16.312833",
     "status": "completed"
    },
    "tags": []
   },
   "outputs": [
    {
     "name": "stdout",
     "output_type": "stream",
     "text": [
      "0: setosa\n",
      "1: versicolor\n",
      "2: virginica\n"
     ]
    }
   ],
   "source": [
    "for i in df1[0].unique():\n",
    "    print(f'{i}: {iris.target_names[i]}')"
   ]
  },
  {
   "cell_type": "code",
   "execution_count": 6,
   "id": "15447288",
   "metadata": {
    "execution": {
     "iopub.execute_input": "2025-08-24T13:56:16.341058Z",
     "iopub.status.busy": "2025-08-24T13:56:16.340684Z",
     "iopub.status.idle": "2025-08-24T13:56:16.726244Z",
     "shell.execute_reply": "2025-08-24T13:56:16.725123Z"
    },
    "papermill": {
     "duration": 0.394082,
     "end_time": "2025-08-24T13:56:16.727752",
     "exception": false,
     "start_time": "2025-08-24T13:56:16.333670",
     "status": "completed"
    },
    "tags": []
   },
   "outputs": [
    {
     "data": {
      "image/png": "[encoded data removed]",
      "text/plain": [
       "<Figure size 640x480 with 2 Axes>"
      ]
     },
     "metadata": {},
     "output_type": "display_data"
    }
   ],
   "source": [
    "sns.heatmap(df.corr(), annot=True)\n",
    "plt.title(\"HeatMap for Iris Dataset\",color='b')\n",
    "plt.show()"
   ]
  },
  {
   "cell_type": "markdown",
   "id": "330187e6",
   "metadata": {
    "papermill": {
     "duration": 0.005637,
     "end_time": "2025-08-24T13:56:16.739412",
     "exception": false,
     "start_time": "2025-08-24T13:56:16.733775",
     "status": "completed"
    },
    "tags": []
   },
   "source": [
    "# train-test split"
   ]
  },
  {
   "cell_type": "code",
   "execution_count": 7,
   "id": "5ebd1da5",
   "metadata": {
    "execution": {
     "iopub.execute_input": "2025-08-24T13:56:16.752810Z",
     "iopub.status.busy": "2025-08-24T13:56:16.752331Z",
     "iopub.status.idle": "2025-08-24T13:56:16.865834Z",
     "shell.execute_reply": "2025-08-24T13:56:16.864781Z"
    },
    "papermill": {
     "duration": 0.122349,
     "end_time": "2025-08-24T13:56:16.867893",
     "exception": false,
     "start_time": "2025-08-24T13:56:16.745544",
     "status": "completed"
    },
    "tags": []
   },
   "outputs": [
    {
     "name": "stdout",
     "output_type": "stream",
     "text": [
      "Train set size: (120, 4)\n",
      "Test set size: (30, 4)\n"
     ]
    }
   ],
   "source": [
    "from sklearn.model_selection import train_test_split\n",
    "\n",
    "X_train, X_test, y_train, y_test = train_test_split(X, y, test_size=0.2, random_state=42)\n",
    "\n",
    "print(\"Train set size:\", X_train.shape)\n",
    "print(\"Test set size:\", X_test.shape)"
   ]
  },
  {
   "cell_type": "markdown",
   "id": "a1d7fb63",
   "metadata": {
    "papermill": {
     "duration": 0.006458,
     "end_time": "2025-08-24T13:56:16.881233",
     "exception": false,
     "start_time": "2025-08-24T13:56:16.874775",
     "status": "completed"
    },
    "tags": []
   },
   "source": [
    "# classification model: Logistic Regression"
   ]
  },
  {
   "cell_type": "code",
   "execution_count": 8,
   "id": "586d0fc9",
   "metadata": {
    "execution": {
     "iopub.execute_input": "2025-08-24T13:56:16.894623Z",
     "iopub.status.busy": "2025-08-24T13:56:16.894327Z",
     "iopub.status.idle": "2025-08-24T13:56:17.061210Z",
     "shell.execute_reply": "2025-08-24T13:56:17.058606Z"
    },
    "papermill": {
     "duration": 0.17582,
     "end_time": "2025-08-24T13:56:17.063101",
     "exception": false,
     "start_time": "2025-08-24T13:56:16.887281",
     "status": "completed"
    },
    "tags": []
   },
   "outputs": [
    {
     "name": "stdout",
     "output_type": "stream",
     "text": [
      "Predictions: [1 0 2 1 1 0 1 2 1 1]\n",
      "Actual: [1 0 2 1 1 0 1 2 1 1]\n"
     ]
    }
   ],
   "source": [
    "from sklearn.linear_model import LogisticRegression\n",
    "\n",
    "model = LogisticRegression(max_iter=200)\n",
    "\n",
    "model.fit(X_train, y_train)\n",
    "\n",
    "y_pred = model.predict(X_test)\n",
    "\n",
    "print(\"Predictions:\", y_pred[:10])\n",
    "print(\"Actual:\", y_test[:10])"
   ]
  },
  {
   "cell_type": "markdown",
   "id": "566c3f00",
   "metadata": {
    "papermill": {
     "duration": 0.009315,
     "end_time": "2025-08-24T13:56:17.082176",
     "exception": false,
     "start_time": "2025-08-24T13:56:17.072861",
     "status": "completed"
    },
    "tags": []
   },
   "source": [
    "# Evaluate the Model"
   ]
  },
  {
   "cell_type": "code",
   "execution_count": 9,
   "id": "dc081e25",
   "metadata": {
    "execution": {
     "iopub.execute_input": "2025-08-24T13:56:17.104063Z",
     "iopub.status.busy": "2025-08-24T13:56:17.103719Z",
     "iopub.status.idle": "2025-08-24T13:56:17.118436Z",
     "shell.execute_reply": "2025-08-24T13:56:17.116848Z"
    },
    "papermill": {
     "duration": 0.028395,
     "end_time": "2025-08-24T13:56:17.120284",
     "exception": false,
     "start_time": "2025-08-24T13:56:17.091889",
     "status": "completed"
    },
    "tags": []
   },
   "outputs": [
    {
     "name": "stdout",
     "output_type": "stream",
     "text": [
      "accuracy:  1.0\n"
     ]
    },
    {
     "data": {
      "text/plain": [
       "array([[10,  0,  0],\n",
       "       [ 0,  9,  0],\n",
       "       [ 0,  0, 11]])"
      ]
     },
     "execution_count": 9,
     "metadata": {},
     "output_type": "execute_result"
    }
   ],
   "source": [
    "from sklearn.metrics import accuracy_score, confusion_matrix\n",
    "\n",
    "accuracy = accuracy_score(y_test, y_pred)\n",
    "print(\"accuracy: \",accuracy)\n",
    "\n",
    "cm = confusion_matrix(y_test, y_pred)\n",
    "cm"
   ]
  },
  {
   "cell_type": "code",
   "execution_count": 10,
   "id": "3e424c5c",
   "metadata": {
    "execution": {
     "iopub.execute_input": "2025-08-24T13:56:17.142108Z",
     "iopub.status.busy": "2025-08-24T13:56:17.141180Z",
     "iopub.status.idle": "2025-08-24T13:56:17.156938Z",
     "shell.execute_reply": "2025-08-24T13:56:17.156195Z"
    },
    "papermill": {
     "duration": 0.028342,
     "end_time": "2025-08-24T13:56:17.158467",
     "exception": false,
     "start_time": "2025-08-24T13:56:17.130125",
     "status": "completed"
    },
    "tags": []
   },
   "outputs": [
    {
     "name": "stdout",
     "output_type": "stream",
     "text": [
      "/kaggle/input/sms-spam-collection-dataset/spam.csv\n"
     ]
    }
   ],
   "source": [
    "import os\n",
    "for dirname, _, filenames in os.walk('/kaggle/input/sms-spam-collection-dataset'):\n",
    "    for filename in filenames:\n",
    "        print(os.path.join(dirname, filename))"
   ]
  },
  {
   "cell_type": "code",
   "execution_count": 11,
   "id": "04f8335a",
   "metadata": {
    "execution": {
     "iopub.execute_input": "2025-08-24T13:56:17.180037Z",
     "iopub.status.busy": "2025-08-24T13:56:17.178873Z",
     "iopub.status.idle": "2025-08-24T13:56:17.234931Z",
     "shell.execute_reply": "2025-08-24T13:56:17.233780Z"
    },
    "papermill": {
     "duration": 0.067965,
     "end_time": "2025-08-24T13:56:17.236875",
     "exception": false,
     "start_time": "2025-08-24T13:56:17.168910",
     "status": "completed"
    },
    "tags": []
   },
   "outputs": [
    {
     "name": "stdout",
     "output_type": "stream",
     "text": [
      "  label                                            message\n",
      "0   ham  Go until jurong point, crazy.. Available only ...\n",
      "1   ham                      Ok lar... Joking wif u oni...\n",
      "2  spam  Free entry in 2 a wkly comp to win FA Cup fina...\n",
      "3   ham  U dun say so early hor... U c already then say...\n",
      "4   ham  Nah I don't think he goes to usf, he lives aro...\n",
      "Total rows: 5572\n",
      "Labels count:\n",
      " label\n",
      "ham     4825\n",
      "spam     747\n",
      "Name: count, dtype: int64\n"
     ]
    }
   ],
   "source": [
    "import pandas as pd\n",
    "\n",
    "# Load the dataset\n",
    "df2 = pd.read_csv(\"/kaggle/input/sms-spam-collection-dataset/spam.csv\", encoding=\"latin-1\")\n",
    "\n",
    "# Keep only the relevant columns: label and message\n",
    "df2 = df2[['v1', 'v2']]\n",
    "df2.columns = ['label', 'message']\n",
    "\n",
    "# Preview the data\n",
    "print(df2.head())\n",
    "print(\"Total rows:\", df2.shape[0])\n",
    "print(\"Labels count:\\n\", df2['label'].value_counts())\n"
   ]
  },
  {
   "cell_type": "code",
   "execution_count": 12,
   "id": "3bdcb03c",
   "metadata": {
    "execution": {
     "iopub.execute_input": "2025-08-24T13:56:17.253210Z",
     "iopub.status.busy": "2025-08-24T13:56:17.252846Z",
     "iopub.status.idle": "2025-08-24T13:56:17.262049Z",
     "shell.execute_reply": "2025-08-24T13:56:17.261158Z"
    },
    "papermill": {
     "duration": 0.019193,
     "end_time": "2025-08-24T13:56:17.263600",
     "exception": false,
     "start_time": "2025-08-24T13:56:17.244407",
     "status": "completed"
    },
    "tags": []
   },
   "outputs": [
    {
     "data": {
      "text/html": [
       "<div>\n",
       "<style scoped>\n",
       "    .dataframe tbody tr th:only-of-type {\n",
       "        vertical-align: middle;\n",
       "    }\n",
       "\n",
       "    .dataframe tbody tr th {\n",
       "        vertical-align: top;\n",
       "    }\n",
       "\n",
       "    .dataframe thead th {\n",
       "        text-align: right;\n",
       "    }\n",
       "</style>\n",
       "<table border=\"1\" class=\"dataframe\">\n",
       "  <thead>\n",
       "    <tr style=\"text-align: right;\">\n",
       "      <th></th>\n",
       "      <th>label</th>\n",
       "      <th>message</th>\n",
       "    </tr>\n",
       "  </thead>\n",
       "  <tbody>\n",
       "    <tr>\n",
       "      <th>0</th>\n",
       "      <td>ham</td>\n",
       "      <td>Go until jurong point, crazy.. Available only ...</td>\n",
       "    </tr>\n",
       "    <tr>\n",
       "      <th>1</th>\n",
       "      <td>ham</td>\n",
       "      <td>Ok lar... Joking wif u oni...</td>\n",
       "    </tr>\n",
       "    <tr>\n",
       "      <th>2</th>\n",
       "      <td>spam</td>\n",
       "      <td>Free entry in 2 a wkly comp to win FA Cup fina...</td>\n",
       "    </tr>\n",
       "    <tr>\n",
       "      <th>3</th>\n",
       "      <td>ham</td>\n",
       "      <td>U dun say so early hor... U c already then say...</td>\n",
       "    </tr>\n",
       "    <tr>\n",
       "      <th>4</th>\n",
       "      <td>ham</td>\n",
       "      <td>Nah I don't think he goes to usf, he lives aro...</td>\n",
       "    </tr>\n",
       "  </tbody>\n",
       "</table>\n",
       "</div>"
      ],
      "text/plain": [
       "  label                                            message\n",
       "0   ham  Go until jurong point, crazy.. Available only ...\n",
       "1   ham                      Ok lar... Joking wif u oni...\n",
       "2  spam  Free entry in 2 a wkly comp to win FA Cup fina...\n",
       "3   ham  U dun say so early hor... U c already then say...\n",
       "4   ham  Nah I don't think he goes to usf, he lives aro..."
      ]
     },
     "execution_count": 12,
     "metadata": {},
     "output_type": "execute_result"
    }
   ],
   "source": [
    "df2.head()"
   ]
  },
  {
   "cell_type": "markdown",
   "id": "31ee0755",
   "metadata": {
    "papermill": {
     "duration": 0.006815,
     "end_time": "2025-08-24T13:56:17.276757",
     "exception": false,
     "start_time": "2025-08-24T13:56:17.269942",
     "status": "completed"
    },
    "tags": []
   },
   "source": [
    "# Convert Labels to Numbers"
   ]
  },
  {
   "cell_type": "code",
   "execution_count": 13,
   "id": "060c5795",
   "metadata": {
    "execution": {
     "iopub.execute_input": "2025-08-24T13:56:17.290449Z",
     "iopub.status.busy": "2025-08-24T13:56:17.290097Z",
     "iopub.status.idle": "2025-08-24T13:56:17.303027Z",
     "shell.execute_reply": "2025-08-24T13:56:17.302007Z"
    },
    "papermill": {
     "duration": 0.021477,
     "end_time": "2025-08-24T13:56:17.304409",
     "exception": false,
     "start_time": "2025-08-24T13:56:17.282932",
     "status": "completed"
    },
    "tags": []
   },
   "outputs": [
    {
     "data": {
      "text/html": [
       "<div>\n",
       "<style scoped>\n",
       "    .dataframe tbody tr th:only-of-type {\n",
       "        vertical-align: middle;\n",
       "    }\n",
       "\n",
       "    .dataframe tbody tr th {\n",
       "        vertical-align: top;\n",
       "    }\n",
       "\n",
       "    .dataframe thead th {\n",
       "        text-align: right;\n",
       "    }\n",
       "</style>\n",
       "<table border=\"1\" class=\"dataframe\">\n",
       "  <thead>\n",
       "    <tr style=\"text-align: right;\">\n",
       "      <th></th>\n",
       "      <th>label_num</th>\n",
       "      <th>label</th>\n",
       "    </tr>\n",
       "  </thead>\n",
       "  <tbody>\n",
       "    <tr>\n",
       "      <th>0</th>\n",
       "      <td>0</td>\n",
       "      <td>ham</td>\n",
       "    </tr>\n",
       "    <tr>\n",
       "      <th>1</th>\n",
       "      <td>0</td>\n",
       "      <td>ham</td>\n",
       "    </tr>\n",
       "    <tr>\n",
       "      <th>2</th>\n",
       "      <td>1</td>\n",
       "      <td>spam</td>\n",
       "    </tr>\n",
       "    <tr>\n",
       "      <th>3</th>\n",
       "      <td>0</td>\n",
       "      <td>ham</td>\n",
       "    </tr>\n",
       "    <tr>\n",
       "      <th>4</th>\n",
       "      <td>0</td>\n",
       "      <td>ham</td>\n",
       "    </tr>\n",
       "  </tbody>\n",
       "</table>\n",
       "</div>"
      ],
      "text/plain": [
       "   label_num label\n",
       "0          0   ham\n",
       "1          0   ham\n",
       "2          1  spam\n",
       "3          0   ham\n",
       "4          0   ham"
      ]
     },
     "execution_count": 13,
     "metadata": {},
     "output_type": "execute_result"
    }
   ],
   "source": [
    "df2[\"label_num\"] = df2[\"label\"].map({\"ham\": 0 , \"spam\": 1})\n",
    "df2[[\"label_num\",\"label\"]].head()"
   ]
  },
  {
   "cell_type": "markdown",
   "id": "6c69087c",
   "metadata": {
    "papermill": {
     "duration": 0.006549,
     "end_time": "2025-08-24T13:56:17.317737",
     "exception": false,
     "start_time": "2025-08-24T13:56:17.311188",
     "status": "completed"
    },
    "tags": []
   },
   "source": [
    "# Text Cleaning"
   ]
  },
  {
   "cell_type": "code",
   "execution_count": 14,
   "id": "bd363218",
   "metadata": {
    "execution": {
     "iopub.execute_input": "2025-08-24T13:56:17.331935Z",
     "iopub.status.busy": "2025-08-24T13:56:17.331605Z",
     "iopub.status.idle": "2025-08-24T13:56:17.362133Z",
     "shell.execute_reply": "2025-08-24T13:56:17.361016Z"
    },
    "papermill": {
     "duration": 0.039592,
     "end_time": "2025-08-24T13:56:17.363766",
     "exception": false,
     "start_time": "2025-08-24T13:56:17.324174",
     "status": "completed"
    },
    "tags": []
   },
   "outputs": [],
   "source": [
    "import re\n",
    "\n",
    "def clean_text(text):\n",
    "    text = text.lower()\n",
    "    text = re.sub(r'[^a-z\\s]', '' ,text)\n",
    "    return text\n",
    "\n",
    "df2['clean_message'] = df2['message'].apply(clean_text)\n"
   ]
  },
  {
   "cell_type": "code",
   "execution_count": 15,
   "id": "976f81ac",
   "metadata": {
    "execution": {
     "iopub.execute_input": "2025-08-24T13:56:17.378172Z",
     "iopub.status.busy": "2025-08-24T13:56:17.377875Z",
     "iopub.status.idle": "2025-08-24T13:56:17.384789Z",
     "shell.execute_reply": "2025-08-24T13:56:17.383789Z"
    },
    "papermill": {
     "duration": 0.015951,
     "end_time": "2025-08-24T13:56:17.386308",
     "exception": false,
     "start_time": "2025-08-24T13:56:17.370357",
     "status": "completed"
    },
    "tags": []
   },
   "outputs": [
    {
     "data": {
      "text/plain": [
       "0    go until jurong point crazy available only in ...\n",
       "1                              ok lar joking wif u oni\n",
       "2    free entry in  a wkly comp to win fa cup final...\n",
       "3          u dun say so early hor u c already then say\n",
       "4    nah i dont think he goes to usf he lives aroun...\n",
       "Name: clean_message, dtype: object"
      ]
     },
     "execution_count": 15,
     "metadata": {},
     "output_type": "execute_result"
    }
   ],
   "source": [
    "df2['clean_message'].head()"
   ]
  },
  {
   "cell_type": "code",
   "execution_count": 16,
   "id": "a8221221",
   "metadata": {
    "execution": {
     "iopub.execute_input": "2025-08-24T13:56:17.401029Z",
     "iopub.status.busy": "2025-08-24T13:56:17.400643Z",
     "iopub.status.idle": "2025-08-24T13:56:17.501140Z",
     "shell.execute_reply": "2025-08-24T13:56:17.499924Z"
    },
    "papermill": {
     "duration": 0.109836,
     "end_time": "2025-08-24T13:56:17.502939",
     "exception": false,
     "start_time": "2025-08-24T13:56:17.393103",
     "status": "completed"
    },
    "tags": []
   },
   "outputs": [
    {
     "name": "stdout",
     "output_type": "stream",
     "text": [
      "Shape of X: (5572, 8512)\n"
     ]
    }
   ],
   "source": [
    "from sklearn.feature_extraction.text import CountVectorizer\n",
    "\n",
    "# Initialize CountVectorizer\n",
    "vectorizer = CountVectorizer()\n",
    "\n",
    "# Convert text to numeric vectors\n",
    "X = vectorizer.fit_transform(df2['clean_message'])\n",
    "\n",
    "print(\"Shape of X:\", X.shape)\n"
   ]
  },
  {
   "cell_type": "code",
   "execution_count": null,
   "id": "23b49fbb",
   "metadata": {
    "papermill": {
     "duration": 0.006331,
     "end_time": "2025-08-24T13:56:17.515927",
     "exception": false,
     "start_time": "2025-08-24T13:56:17.509596",
     "status": "completed"
    },
    "tags": []
   },
   "outputs": [],
   "source": []
  },
  {
   "cell_type": "code",
   "execution_count": 17,
   "id": "3fafc1a1",
   "metadata": {
    "execution": {
     "iopub.execute_input": "2025-08-24T13:56:17.530620Z",
     "iopub.status.busy": "2025-08-24T13:56:17.530230Z",
     "iopub.status.idle": "2025-08-24T13:56:17.539864Z",
     "shell.execute_reply": "2025-08-24T13:56:17.538892Z"
    },
    "papermill": {
     "duration": 0.019147,
     "end_time": "2025-08-24T13:56:17.541668",
     "exception": false,
     "start_time": "2025-08-24T13:56:17.522521",
     "status": "completed"
    },
    "tags": []
   },
   "outputs": [
    {
     "name": "stdout",
     "output_type": "stream",
     "text": [
      "Train set: (4457, 8512)\n",
      "Test set: (1115, 8512)\n"
     ]
    }
   ],
   "source": [
    "from sklearn.model_selection import train_test_split\n",
    "\n",
    "y = df2['label_num']\n",
    "\n",
    "X_train, X_test, y_train, y_test = train_test_split(\n",
    "    X, y, test_size=0.2, random_state=42\n",
    ")\n",
    "\n",
    "print(\"Train set:\", X_train.shape)\n",
    "print(\"Test set:\", X_test.shape)\n"
   ]
  },
  {
   "cell_type": "code",
   "execution_count": 18,
   "id": "c493cd6e",
   "metadata": {
    "execution": {
     "iopub.execute_input": "2025-08-24T13:56:17.557271Z",
     "iopub.status.busy": "2025-08-24T13:56:17.556404Z",
     "iopub.status.idle": "2025-08-24T13:56:17.666006Z",
     "shell.execute_reply": "2025-08-24T13:56:17.665064Z"
    },
    "papermill": {
     "duration": 0.119674,
     "end_time": "2025-08-24T13:56:17.668150",
     "exception": false,
     "start_time": "2025-08-24T13:56:17.548476",
     "status": "completed"
    },
    "tags": []
   },
   "outputs": [
    {
     "name": "stdout",
     "output_type": "stream",
     "text": [
      "Shape of TF-IDF matrix: (5572, 8512)\n"
     ]
    }
   ],
   "source": [
    "from sklearn.feature_extraction.text import TfidfVectorizer\n",
    "\n",
    "# Initialize TF-IDF vectorizer\n",
    "tfidf = TfidfVectorizer()\n",
    "\n",
    "# Convert messages into TF-IDF features\n",
    "X_tfidf = tfidf.fit_transform(df2['clean_message'])\n",
    "\n",
    "print(\"Shape of TF-IDF matrix:\", X_tfidf.shape)\n"
   ]
  },
  {
   "cell_type": "code",
   "execution_count": 19,
   "id": "369d8d18",
   "metadata": {
    "execution": {
     "iopub.execute_input": "2025-08-24T13:56:17.683197Z",
     "iopub.status.busy": "2025-08-24T13:56:17.682678Z",
     "iopub.status.idle": "2025-08-24T13:56:17.691402Z",
     "shell.execute_reply": "2025-08-24T13:56:17.690597Z"
    },
    "papermill": {
     "duration": 0.018055,
     "end_time": "2025-08-24T13:56:17.693060",
     "exception": false,
     "start_time": "2025-08-24T13:56:17.675005",
     "status": "completed"
    },
    "tags": []
   },
   "outputs": [],
   "source": [
    "X_train, X_test, y_train, y_test = train_test_split(\n",
    "    X_tfidf, y, test_size=0.2, random_state=42\n",
    ")\n"
   ]
  },
  {
   "cell_type": "code",
   "execution_count": 20,
   "id": "2c7b897f",
   "metadata": {
    "execution": {
     "iopub.execute_input": "2025-08-24T13:56:17.708209Z",
     "iopub.status.busy": "2025-08-24T13:56:17.707896Z",
     "iopub.status.idle": "2025-08-24T13:56:17.749601Z",
     "shell.execute_reply": "2025-08-24T13:56:17.748456Z"
    },
    "papermill": {
     "duration": 0.051221,
     "end_time": "2025-08-24T13:56:17.751255",
     "exception": false,
     "start_time": "2025-08-24T13:56:17.700034",
     "status": "completed"
    },
    "tags": []
   },
   "outputs": [
    {
     "name": "stdout",
     "output_type": "stream",
     "text": [
      "Accuracy: 0.9506726457399103\n",
      "\n",
      "Confusion Matrix:\n",
      " [[965   0]\n",
      " [ 55  95]]\n",
      "\n",
      "Classification Report:\n",
      "               precision    recall  f1-score   support\n",
      "\n",
      "           0       0.95      1.00      0.97       965\n",
      "           1       1.00      0.63      0.78       150\n",
      "\n",
      "    accuracy                           0.95      1115\n",
      "   macro avg       0.97      0.82      0.87      1115\n",
      "weighted avg       0.95      0.95      0.95      1115\n",
      "\n"
     ]
    }
   ],
   "source": [
    "from sklearn.naive_bayes import MultinomialNB\n",
    "from sklearn.metrics import accuracy_score, confusion_matrix, classification_report\n",
    "\n",
    "# Step 1: Initialize the model\n",
    "model = MultinomialNB()\n",
    "\n",
    "# Step 2: Train the model\n",
    "model.fit(X_train, y_train)\n",
    "\n",
    "# Step 3: Make predictions on the test set\n",
    "y_pred = model.predict(X_test)\n",
    "\n",
    "# Step 4: Evaluate the model\n",
    "print(\"Accuracy:\", accuracy_score(y_test, y_pred))\n",
    "print(\"\\nConfusion Matrix:\\n\", confusion_matrix(y_test, y_pred))\n",
    "print(\"\\nClassification Report:\\n\", classification_report(y_test, y_pred))\n"
   ]
  },
  {
   "cell_type": "code",
   "execution_count": 21,
   "id": "61596c53",
   "metadata": {
    "execution": {
     "iopub.execute_input": "2025-08-24T13:56:17.768122Z",
     "iopub.status.busy": "2025-08-24T13:56:17.767739Z",
     "iopub.status.idle": "2025-08-24T13:56:17.867962Z",
     "shell.execute_reply": "2025-08-24T13:56:17.867017Z"
    },
    "papermill": {
     "duration": 0.110578,
     "end_time": "2025-08-24T13:56:17.869565",
     "exception": false,
     "start_time": "2025-08-24T13:56:17.758987",
     "status": "completed"
    },
    "tags": []
   },
   "outputs": [],
   "source": [
    "from sklearn.feature_extraction.text import TfidfVectorizer\n",
    "from sklearn.model_selection import train_test_split\n",
    "\n",
    "# TF-IDF features\n",
    "tfidf = TfidfVectorizer()\n",
    "X_tfidf = tfidf.fit_transform(df2['clean_message'])\n",
    "y = df2['label_num']\n",
    "\n",
    "# Split data\n",
    "X_train, X_test, y_train, y_test = train_test_split(\n",
    "    X_tfidf, y, test_size=0.2, random_state=42\n",
    ")\n"
   ]
  },
  {
   "cell_type": "code",
   "execution_count": 22,
   "id": "881692df",
   "metadata": {
    "execution": {
     "iopub.execute_input": "2025-08-24T13:56:17.886250Z",
     "iopub.status.busy": "2025-08-24T13:56:17.885918Z",
     "iopub.status.idle": "2025-08-24T13:56:18.140536Z",
     "shell.execute_reply": "2025-08-24T13:56:18.139743Z"
    },
    "papermill": {
     "duration": 0.265374,
     "end_time": "2025-08-24T13:56:18.142660",
     "exception": false,
     "start_time": "2025-08-24T13:56:17.877286",
     "status": "completed"
    },
    "tags": []
   },
   "outputs": [
    {
     "name": "stdout",
     "output_type": "stream",
     "text": [
      "Accuracy: 0.9605381165919282\n",
      "\n",
      "Confusion Matrix:\n",
      " [[965   0]\n",
      " [ 44 106]]\n",
      "\n",
      "Classification Report:\n",
      "               precision    recall  f1-score   support\n",
      "\n",
      "           0       0.96      1.00      0.98       965\n",
      "           1       1.00      0.71      0.83       150\n",
      "\n",
      "    accuracy                           0.96      1115\n",
      "   macro avg       0.98      0.85      0.90      1115\n",
      "weighted avg       0.96      0.96      0.96      1115\n",
      "\n"
     ]
    }
   ],
   "source": [
    "from sklearn.linear_model import LogisticRegression\n",
    "from sklearn.metrics import accuracy_score, confusion_matrix, classification_report\n",
    "\n",
    "# Train model\n",
    "log_reg = LogisticRegression(max_iter=1000)\n",
    "log_reg.fit(X_train, y_train)\n",
    "\n",
    "# Predictions\n",
    "y_pred = log_reg.predict(X_test)\n",
    "\n",
    "# Evaluation\n",
    "print(\"Accuracy:\", accuracy_score(y_test, y_pred))\n",
    "print(\"\\nConfusion Matrix:\\n\", confusion_matrix(y_test, y_pred))\n",
    "print(\"\\nClassification Report:\\n\", classification_report(y_test, y_pred))\n"
   ]
  },
  {
   "cell_type": "code",
   "execution_count": null,
   "id": "ea6cbd6f",
   "metadata": {
    "papermill": {
     "duration": 0.011212,
     "end_time": "2025-08-24T13:56:18.165195",
     "exception": false,
     "start_time": "2025-08-24T13:56:18.153983",
     "status": "completed"
    },
    "tags": []
   },
   "outputs": [],
   "source": []
  }
 ],
 "metadata": {
  "kaggle": {
   "accelerator": "none",
   "dataSources": [
    {
     "datasetId": 483,
     "sourceId": 982,
     "sourceType": "datasetVersion"
    }
   ],
   "dockerImageVersionId": 31089,
   "isGpuEnabled": false,
   "isInternetEnabled": true,
   "language": "python",
   "sourceType": "notebook"
  },
  "kernelspec": {
   "display_name": "Python 3",
   "language": "python",
   "name": "python3"
  },
  "language_info": {
   "codemirror_mode": {
    "name": "ipython",
    "version": 3
   },
   "file_extension": ".py",
   "mimetype": "text/x-python",
   "name": "python",
   "nbconvert_exporter": "python",
   "pygments_lexer": "ipython3",
   "version": "3.11.13"
  },
  "papermill": {
   "default_parameters": {},
   "duration": 15.724764,
   "end_time": "2025-08-24T13:56:21.672251",
   "environment_variables": {},
   "exception": null,
   "input_path": "__notebook__.ipynb",
   "output_path": "__notebook__.ipynb",
   "parameters": {},
   "start_time": "2025-08-24T13:56:05.947487",
   "version": "2.6.0"
  }
 },
 "nbformat": 4,
 "nbformat_minor": 5
}
